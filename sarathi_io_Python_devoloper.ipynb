{
  "cells": [
    {
      "cell_type": "code",
      "execution_count": 64,
      "metadata": {
        "colab": {
          "base_uri": "https://localhost:8080/"
        },
        "id": "EL18uGCAetLU",
        "outputId": "460c5f6c-cd93-438b-a7e9-17beb584c279"
      },
      "outputs": [
        {
          "output_type": "stream",
          "name": "stdout",
          "text": [
            "[11, 19]\n",
            "[22]\n",
            "['How far is kolkata from delhi', 'How far is delhi from kolkata', 'How is the weather in kolkata', 'How is the weather in delhi']\n"
          ]
        }
      ],
      "source": [
        "## Write a Python program to automatically generate utterances. \n",
        "##It will take a list of entities and a list of utterances as its input. \n",
        "#its output will be a list of unique utterances with all the possible meaningful values of entities.\n",
        "\n",
        "import math\n",
        "\n",
        "def nCr(n,r):\n",
        "    f = math.factorial\n",
        "    return f(n) // f(r) // f(n-r)\n",
        "  \n",
        "from itertools import combinations\n",
        "import random\n",
        "def utterances(utt,ent):\n",
        "  res=[]\n",
        "  for i in utt:\n",
        "      k=i.count(\"<>\")\n",
        "      if(k>len(ent)):\n",
        "        res.append(\"Cannot form meaningfull Sentences\")\n",
        "      else:\n",
        "        l=ent.copy()\n",
        "        ind=[]\n",
        "        for j in range(len(i)):\n",
        "          if(i[j]==\"<\"):\n",
        "            ind.append(j)\n",
        "        print(ind)\n",
        "\n",
        "        gen=0\n",
        "        while(gen!=nCr(len(ent),k)+1):\n",
        "          v=0\n",
        "          s=\"\"\n",
        "          dyn=[i]\n",
        "          choices=[\"\"]\n",
        "          while(v<len(ind)):\n",
        "            ch=random.choice(ent)\n",
        "            if(ch not in dyn[-1]):\n",
        "              dyn_str=dyn[-1]\n",
        "              if(len(choices[-1])==0):\n",
        "                s=dyn_str[:ind[v]]+ch+dyn_str[ind[v]+2:]\n",
        "                v+=1\n",
        "              else:\n",
        "                s=dyn_str[:ind[v]+len(choices[-1])-2]+ch+dyn_str[ind[v]+len(choices[-1]):]\n",
        "                v+=1\n",
        "              choices.append(ch)\n",
        "              dyn.append(s)\n",
        "          if(s not in res):\n",
        "            res.append(dyn[-1])\n",
        "          gen+=1\n",
        "\n",
        "        \n",
        "  return (res)\n",
        "    \n",
        "if __name__==\"__main__\":    \n",
        "  print(utterances([\"How far is <> from <>\", \"How is the weather in <>\"],[\"kolkata\", \"delhi\"]))"
      ]
    },
    {
      "cell_type": "code",
      "execution_count": null,
      "metadata": {
        "id": "4_asnDzYetLY",
        "outputId": "4a4d9b88-776b-4413-8f65-265e2cd97ff8"
      },
      "outputs": [
        {
          "name": "stdout",
          "output_type": "stream",
          "text": [
            "[{1: 2, 3: 4, 4: 5}, {6: 7, 7: 8, 8: 9}]\n"
          ]
        }
      ],
      "source": [
        "# Write a python program to convert a list of dictionaries which may contain duplicate dictonaries into a list \n",
        "# containing unique dictionaries\n",
        "\n",
        "\n",
        "def unique_dicts(l):\n",
        "    k=len(l)\n",
        "    i=0\n",
        "    while(i!=k-1):\n",
        "        if(l.count(l[i])!=1):\n",
        "            l.pop(i)\n",
        "            i-=1\n",
        "        i+=1\n",
        "        k=len(l)\n",
        "        \n",
        "    return l\n",
        "\n",
        "if __name__ == \"__main__\":\n",
        "    print(unique_dicts([{1:2,3:4,4:5},{6:7,7:8,8:9},{1:2,3:4,4:5},{6:7,7:8,8:9}]))"
      ]
    },
    {
      "cell_type": "code",
      "execution_count": null,
      "metadata": {
        "id": "qGG4GKJMetLZ",
        "outputId": "c1779308-c8eb-42c5-8d4a-0b35b6753590"
      },
      "outputs": [
        {
          "name": "stdout",
          "output_type": "stream",
          "text": [
            "Abce56#\n",
            "valid\n"
          ]
        }
      ],
      "source": [
        "# Write a Python program to check the validity of password input by users. \n",
        "# It should validate the password with given below conditions\n",
        "\n",
        "def valid(p):\n",
        "    d={\"alpha_upper\":0,\n",
        "       \"alpha_lower\":0,\n",
        "       \"num\":0,\n",
        "       \"special_char\":0}\n",
        "    if(len(p)>=6 and len(p)<=16):\n",
        "        for i in p:\n",
        "            if(i.isalpha() and i.isupper()):\n",
        "                d[\"alpha_upper\"]+=1\n",
        "            elif(i.isalpha() and i.islower()):\n",
        "                d[\"alpha_lower\"]+=1\n",
        "            else:\n",
        "                try:\n",
        "                    k=int(i)\n",
        "                    d[\"num\"]+=1\n",
        "                except:\n",
        "                    d[\"special_char\"]+=1\n",
        "                \n",
        "    else:\n",
        "        return \"Not Valid\"\n",
        "    \n",
        "    for i in d:\n",
        "        if(d[i]==0):\n",
        "            return \"Not valid\"\n",
        "        else:\n",
        "            continue\n",
        "            \n",
        "    return \"valid\"\n",
        "\n",
        "if __name__ == \"__main__\":\n",
        "    p = input()\n",
        "    print(valid(p))"
      ]
    },
    {
      "cell_type": "code",
      "execution_count": null,
      "metadata": {
        "id": "mOcDD7n6etLZ",
        "outputId": "f2ae7285-1201-48d3-d569-cb147e9446b5"
      },
      "outputs": [
        {
          "name": "stdout",
          "output_type": "stream",
          "text": [
            "{'a': 400, 'b': 400, 'c': 300, 'd': 400}\n"
          ]
        }
      ],
      "source": [
        "# Write a Python program to combine two dictionary adding values for common keys\n",
        "\n",
        "def add_dicts(d1,d2):\n",
        "    res={}\n",
        "    for i in d1:\n",
        "        if(i in d2):\n",
        "            res[i]=d1[i]+d2[i]\n",
        "        else:\n",
        "            res[i]=d1[i]\n",
        "            \n",
        "    for i in d2:\n",
        "        if(i in res):\n",
        "            continue\n",
        "        else:\n",
        "            res[i]=d2[i]\n",
        "            \n",
        "    print(res)\n",
        "    \n",
        "add_dicts(d1 = {'a': 100, 'b': 200, 'c':300}\n",
        "                   ,d2 = {'a': 300, 'b': 200, 'd':400})"
      ]
    }
  ],
  "metadata": {
    "kernelspec": {
      "display_name": "Python 3",
      "language": "python",
      "name": "python3"
    },
    "language_info": {
      "codemirror_mode": {
        "name": "ipython",
        "version": 3
      },
      "file_extension": ".py",
      "mimetype": "text/x-python",
      "name": "python",
      "nbconvert_exporter": "python",
      "pygments_lexer": "ipython3",
      "version": "3.8.3"
    },
    "colab": {
      "name": "sarathi.io Python_devoloper.ipynb",
      "provenance": []
    }
  },
  "nbformat": 4,
  "nbformat_minor": 0
}